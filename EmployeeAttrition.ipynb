{
 "cells": [
  {
   "cell_type": "code",
   "execution_count": null,
   "metadata": {},
   "outputs": [],
   "source": [
    "import pandas as pd\n",
    "from sklearn.model_selection import train_test_split\n",
    "from sklearn.ensemble import RandomForestClassifier\n",
    "from sklearn.metrics import classification_report, accuracy_score\n",
    "\n",
    "file_path = 'Employee-Attrition.csv'\n",
    "data = pd.read_csv(file_path)"
   ]
  },
  {
   "cell_type": "code",
   "execution_count": 8,
   "metadata": {},
   "outputs": [
    {
     "name": "stdout",
     "output_type": "stream",
     "text": [
      "Accuracy: 83.45%\n",
      "\n",
      "Classification Report:\n",
      "               precision    recall  f1-score   support\n",
      "\n",
      "           0       0.85      0.97      0.91       370\n",
      "           1       0.45      0.13      0.20        71\n",
      "\n",
      "    accuracy                           0.83       441\n",
      "   macro avg       0.65      0.55      0.55       441\n",
      "weighted avg       0.79      0.83      0.79       441\n",
      "\n",
      "\n",
      "Top Features:\n",
      "                  Feature  Importance\n",
      "9          MonthlyIncome    0.078772\n",
      "0                    Age    0.064982\n",
      "16     TotalWorkingYears    0.054929\n",
      "1              DailyRate    0.051431\n",
      "5             HourlyRate    0.049992\n",
      "10           MonthlyRate    0.048017\n",
      "19        YearsAtCompany    0.045208\n",
      "2       DistanceFromHome    0.043131\n",
      "22  YearsWithCurrManager    0.041797\n",
      "43          OverTime_Yes    0.039565\n"
     ]
    }
   ],
   "source": [
    "#uninformative columns\n",
    "uninformative_cols = ['EmployeeCount', 'EmployeeNumber', 'Over18', 'StandardHours']\n",
    "data_cleaned = data.drop(columns=uninformative_cols)\n",
    "\n",
    "#target variable\n",
    "data_cleaned['Attrition'] = data_cleaned['Attrition'].apply(lambda x: 1 if x == 'Yes' else 0)\n",
    "\n",
    "#ategorical variables\n",
    "categorical_cols = data_cleaned.select_dtypes(include='object').columns\n",
    "data_encoded = pd.get_dummies(data_cleaned, columns=categorical_cols, drop_first=True)\n",
    "\n",
    "#spliting data into features (X) and target (y)\n",
    "X = data_encoded.drop(columns=['Attrition'])\n",
    "y = data_encoded['Attrition']\n",
    "\n",
    "#split into training and test sets\n",
    "X_train, X_test, y_train, y_test = train_test_split(X, y, test_size=0.3, random_state=42, stratify=y)\n",
    "\n",
    "#Random Forest classifier\n",
    "model = RandomForestClassifier(random_state=42)\n",
    "model.fit(X_train, y_train)\n",
    "\n",
    "y_pred = model.predict(X_test)\n",
    "\n",
    "#Evaluate the model\n",
    "accuracy = accuracy_score(y_test, y_pred)\n",
    "report = classification_report(y_test, y_pred)\n",
    "\n",
    "#results\n",
    "print(f\"Accuracy: {accuracy * 100:.2f}%\")\n",
    "print(\"\\nClassification Report:\\n\", report)\n",
    "\n",
    "feature_importances = pd.DataFrame({\n",
    "    'Feature': X.columns,\n",
    "    'Importance': model.feature_importances_\n",
    "}).sort_values(by='Importance', ascending=False)\n",
    "\n",
    "print(\"\\nTop Features:\\n\", feature_importances.head(10))\n"
   ]
  }
 ],
 "metadata": {
  "kernelspec": {
   "display_name": "Python 3",
   "language": "python",
   "name": "python3"
  },
  "language_info": {
   "codemirror_mode": {
    "name": "ipython",
    "version": 3
   },
   "file_extension": ".py",
   "mimetype": "text/x-python",
   "name": "python",
   "nbconvert_exporter": "python",
   "pygments_lexer": "ipython3",
   "version": "3.13.0"
  }
 },
 "nbformat": 4,
 "nbformat_minor": 2
}
